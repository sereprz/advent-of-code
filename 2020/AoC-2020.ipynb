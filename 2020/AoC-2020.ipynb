{
 "cells": [
  {
   "cell_type": "markdown",
   "metadata": {},
   "source": [
    "## Imports"
   ]
  },
  {
   "cell_type": "code",
   "execution_count": 1,
   "metadata": {},
   "outputs": [],
   "source": [
    "from collections import Counter\n",
    "from functools import reduce\n",
    "from itertools import combinations\n",
    "from math import floor, ceil\n",
    "\n",
    "import re"
   ]
  },
  {
   "cell_type": "markdown",
   "metadata": {},
   "source": [
    "## Day 1"
   ]
  },
  {
   "cell_type": "code",
   "execution_count": 2,
   "metadata": {},
   "outputs": [],
   "source": [
    "with open('data/day01.txt', 'r+') as f:\n",
    "    expense_report = [int(s) for s in f.read().split('\\n') if s != '']"
   ]
  },
  {
   "cell_type": "code",
   "execution_count": 3,
   "metadata": {},
   "outputs": [],
   "source": [
    "def expense_product(expense_report, n):\n",
    "    ints = [c for c in combinations(expense_report, n) if sum(c) == 2020][0]\n",
    "    return reduce((lambda x, y: x * y), ints)"
   ]
  },
  {
   "cell_type": "markdown",
   "metadata": {},
   "source": [
    "* **Part 1**"
   ]
  },
  {
   "cell_type": "code",
   "execution_count": 4,
   "metadata": {},
   "outputs": [
    {
     "data": {
      "text/plain": [
       "1005459"
      ]
     },
     "execution_count": 4,
     "metadata": {},
     "output_type": "execute_result"
    }
   ],
   "source": [
    "expense_product(expense_report, 2)"
   ]
  },
  {
   "cell_type": "markdown",
   "metadata": {},
   "source": [
    "* **Part 2**"
   ]
  },
  {
   "cell_type": "code",
   "execution_count": 5,
   "metadata": {},
   "outputs": [
    {
     "data": {
      "text/plain": [
       "92643264"
      ]
     },
     "execution_count": 5,
     "metadata": {},
     "output_type": "execute_result"
    }
   ],
   "source": [
    "expense_product(expense_report, 3)"
   ]
  },
  {
   "cell_type": "markdown",
   "metadata": {},
   "source": [
    "## Day 2"
   ]
  },
  {
   "cell_type": "code",
   "execution_count": 6,
   "metadata": {},
   "outputs": [],
   "source": [
    "with open('data/day02.txt', 'r+') as f:\n",
    "    passwords_db = [s for s in f.read().split('\\n') if s != '']"
   ]
  },
  {
   "cell_type": "code",
   "execution_count": 7,
   "metadata": {},
   "outputs": [],
   "source": [
    "def count_valid_passwords(db, func):\n",
    "    return sum([func(password) for password in db])"
   ]
  },
  {
   "cell_type": "markdown",
   "metadata": {},
   "source": [
    "* **Part 1**"
   ]
  },
  {
   "cell_type": "code",
   "execution_count": 8,
   "metadata": {},
   "outputs": [],
   "source": [
    "def is_valid_v1(password):\n",
    "    rule, pwd = password.split(':')\n",
    "    min_expected, max_expected = [int(x) for x in re.findall('\\d+', rule)]\n",
    "    letter = re.findall('[a-z]', rule)[0]\n",
    "    actual = Counter(pwd.strip())[letter]\n",
    "    return actual >= min_expected and actual < max_expected + 1"
   ]
  },
  {
   "cell_type": "code",
   "execution_count": 9,
   "metadata": {},
   "outputs": [
    {
     "data": {
      "text/plain": [
       "456"
      ]
     },
     "execution_count": 9,
     "metadata": {},
     "output_type": "execute_result"
    }
   ],
   "source": [
    "count_valid_passwords(passwords_db, is_valid_v1)"
   ]
  },
  {
   "cell_type": "markdown",
   "metadata": {},
   "source": [
    "* **Part 2**"
   ]
  },
  {
   "cell_type": "code",
   "execution_count": 10,
   "metadata": {},
   "outputs": [],
   "source": [
    "def is_valid_v2(password):\n",
    "    rule, pwd = [s.strip() for s in password.split(':')]\n",
    "    ix_1, ix_2 = [int(x) - 1 for x in re.findall('\\d+', rule)]\n",
    "    letter = re.findall('[a-z]', rule)[0]\n",
    "    return (pwd[ix_1] == letter or pwd[ix_2] == letter) and not (pwd[ix_1] == letter and pwd[ix_2] == letter)"
   ]
  },
  {
   "cell_type": "code",
   "execution_count": 11,
   "metadata": {},
   "outputs": [
    {
     "data": {
      "text/plain": [
       "308"
      ]
     },
     "execution_count": 11,
     "metadata": {},
     "output_type": "execute_result"
    }
   ],
   "source": [
    "count_valid_passwords(passwords_db, is_valid_v2)"
   ]
  },
  {
   "cell_type": "markdown",
   "metadata": {},
   "source": [
    "## Day 3"
   ]
  },
  {
   "cell_type": "code",
   "execution_count": 12,
   "metadata": {},
   "outputs": [],
   "source": [
    "with open('data/day03.txt', 'r+') as f:\n",
    "    tree_map = [list(s) for s in f.read().split('\\n') if s != '']"
   ]
  },
  {
   "cell_type": "code",
   "execution_count": 13,
   "metadata": {},
   "outputs": [],
   "source": [
    "def check_slope(tree_map, r, d):\n",
    "    return sum(['#' == tree_map[i][j % len(tree_map[0])] \n",
    "                for i, j in zip(range(0,len(tree_map), d), range(0, len(tree_map) * r , r))])"
   ]
  },
  {
   "cell_type": "markdown",
   "metadata": {},
   "source": [
    "* **Part 1**"
   ]
  },
  {
   "cell_type": "code",
   "execution_count": 14,
   "metadata": {},
   "outputs": [
    {
     "data": {
      "text/plain": [
       "169"
      ]
     },
     "execution_count": 14,
     "metadata": {},
     "output_type": "execute_result"
    }
   ],
   "source": [
    "check_slope(tree_map, 3, 1)"
   ]
  },
  {
   "cell_type": "markdown",
   "metadata": {},
   "source": [
    "* **Part**"
   ]
  },
  {
   "cell_type": "code",
   "execution_count": 15,
   "metadata": {},
   "outputs": [],
   "source": [
    "trees_encountered = [check_slope(tree_map, r, d) for r, d in [(1, 1), (3, 1), (5, 1), (7, 1), (1, 2)]]"
   ]
  },
  {
   "cell_type": "code",
   "execution_count": 16,
   "metadata": {},
   "outputs": [
    {
     "data": {
      "text/plain": [
       "7560370818"
      ]
     },
     "execution_count": 16,
     "metadata": {},
     "output_type": "execute_result"
    }
   ],
   "source": [
    "reduce((lambda x, y: x * y), trees_encountered)"
   ]
  },
  {
   "cell_type": "markdown",
   "metadata": {},
   "source": [
    "## Day 4"
   ]
  },
  {
   "cell_type": "code",
   "execution_count": 17,
   "metadata": {},
   "outputs": [],
   "source": [
    "with open(\"data/day04.txt\") as f:\n",
    "    lines = [line.rstrip('\\n') for line in f]"
   ]
  },
  {
   "cell_type": "code",
   "execution_count": 18,
   "metadata": {},
   "outputs": [],
   "source": [
    "def get_fields(doc):\n",
    "    fields = {}\n",
    "    for s in doc.split():\n",
    "        k, v = s.split(':')\n",
    "        fields[k] = v\n",
    "    return(fields)\n",
    "\n",
    "def get_documents(lines):\n",
    "    empty_lines_index = [i for i, s in enumerate(lines) if s == ''] + [len(lines)]\n",
    "    doc_strings = [' '.join(lines[ix[0]: ix[1]]) for ix in zip([0] + [i + 1 for i in empty_lines_index], empty_lines_index)]\n",
    "    return [get_fields(doc) for doc in doc_strings]"
   ]
  },
  {
   "cell_type": "markdown",
   "metadata": {},
   "source": [
    "* **Part 1**"
   ]
  },
  {
   "cell_type": "code",
   "execution_count": 19,
   "metadata": {},
   "outputs": [],
   "source": [
    "def is_valid_document_v1(doc):\n",
    "    return all([field in doc for field in ['byr', 'iyr', 'eyr', 'hgt', 'hcl', 'ecl', 'pid']])"
   ]
  },
  {
   "cell_type": "code",
   "execution_count": 20,
   "metadata": {},
   "outputs": [
    {
     "data": {
      "text/plain": [
       "226"
      ]
     },
     "execution_count": 20,
     "metadata": {},
     "output_type": "execute_result"
    }
   ],
   "source": [
    "sum([is_valid_document_v1(doc) for doc in get_documents(lines)])"
   ]
  },
  {
   "cell_type": "markdown",
   "metadata": {},
   "source": [
    "* **Part 2**"
   ]
  },
  {
   "cell_type": "code",
   "execution_count": 21,
   "metadata": {},
   "outputs": [],
   "source": [
    "def is_valid_byr(byr):\n",
    "    return int(byr) >= 1920 and int(byr) <= 2002\n",
    "\n",
    "def is_valid_iyr(iyr):\n",
    "    return int(iyr) >= 2010 and int(iyr) <= 2020\n",
    "\n",
    "def is_valid_eyr(eyr):\n",
    "    return int(eyr) >= 2020 and int(eyr) <= 2030\n",
    "\n",
    "def is_valid_hgt(hgt):\n",
    "    results = re.findall('(\\d+)(cm|in)', hgt)\n",
    "    if results:\n",
    "        n, unit = results[0]\n",
    "        if unit == 'cm':\n",
    "            return int(n) >= 150 and int(n) <= 193\n",
    "        elif unit == 'in':\n",
    "            return int(n) >= 59 and int(n) <= 76\n",
    "    return False\n",
    "\n",
    "def is_valid_hcl(hcl):\n",
    "    return len(re.findall('#[aA-zZ0-9]{4}', hcl)) > 0\n",
    "\n",
    "def is_valid_ecl(ecl):\n",
    "    return ecl in ['amb', 'blu', 'brn', 'gry', 'grn', 'hzl', 'oth']\n",
    "\n",
    "def is_valid_pid(pid):\n",
    "    return len(re.findall('\\d', pid)) == len(pid)"
   ]
  },
  {
   "cell_type": "code",
   "execution_count": 22,
   "metadata": {},
   "outputs": [],
   "source": [
    "def is_valid_document_v2(doc):\n",
    "    if is_valid_document_v1(doc):\n",
    "        return is_valid_byr(doc['byr']) and is_valid_iyr(doc['iyr'])\\\n",
    "            and is_valid_eyr(doc['eyr']) and is_valid_hgt(doc['hgt'])\\\n",
    "            and is_valid_hcl(doc['hcl']) and is_valid_ecl(doc['ecl'])\\\n",
    "            and is_valid_pid(doc['pid'])\n",
    "    return False"
   ]
  },
  {
   "cell_type": "code",
   "execution_count": 23,
   "metadata": {},
   "outputs": [
    {
     "data": {
      "text/plain": [
       "162"
      ]
     },
     "execution_count": 23,
     "metadata": {},
     "output_type": "execute_result"
    }
   ],
   "source": [
    "sum([is_valid_document_v2(doc) for doc in get_documents(lines)])"
   ]
  },
  {
   "cell_type": "markdown",
   "metadata": {},
   "source": [
    "## Day 5"
   ]
  },
  {
   "cell_type": "code",
   "execution_count": 24,
   "metadata": {},
   "outputs": [],
   "source": [
    "with open(\"data/day05.txt\") as f:\n",
    "    boarding_passes = [line.rstrip('\\n') for line in f]"
   ]
  },
  {
   "cell_type": "code",
   "execution_count": 25,
   "metadata": {},
   "outputs": [],
   "source": [
    "def keep_lower_half(pair):\n",
    "    return (pair[0], floor((pair[1] - pair[0]) / 2) + pair[0])\n",
    "\n",
    "def keep_upper_half(pair):\n",
    "    return (ceil((pair[1] - pair[0]) / 2) + pair[0], pair[1])"
   ]
  },
  {
   "cell_type": "markdown",
   "metadata": {},
   "source": [
    "* **Part 1**"
   ]
  },
  {
   "cell_type": "code",
   "execution_count": 26,
   "metadata": {},
   "outputs": [],
   "source": [
    "def get_row_and_col_number(boarding_pass):\n",
    "    rows = (0, 127)\n",
    "    cols = (0, 7)\n",
    "\n",
    "    for char in boarding_pass:\n",
    "        if char == 'F':\n",
    "            rows = keep_lower_half(rows)\n",
    "        elif char == 'B':\n",
    "            rows = keep_upper_half(rows)\n",
    "        elif char == 'L':\n",
    "            cols = keep_lower_half(cols)\n",
    "        elif char == 'R':\n",
    "            cols = keep_upper_half(cols)\n",
    "    \n",
    "    if rows[0] == rows[1] and cols[0] == cols[1]:\n",
    "        return rows[0], cols[0]"
   ]
  },
  {
   "cell_type": "code",
   "execution_count": 27,
   "metadata": {},
   "outputs": [],
   "source": [
    "def get_seat_id(boarding_pass):\n",
    "    row, col = get_row_and_col_number(boarding_pass)\n",
    "    return row * 8 + col"
   ]
  },
  {
   "cell_type": "code",
   "execution_count": 28,
   "metadata": {},
   "outputs": [
    {
     "data": {
      "text/plain": [
       "965"
      ]
     },
     "execution_count": 28,
     "metadata": {},
     "output_type": "execute_result"
    }
   ],
   "source": [
    "max([get_seat_id(bp) for bp in boarding_passes])"
   ]
  },
  {
   "cell_type": "markdown",
   "metadata": {},
   "source": [
    "* **Part 2**"
   ]
  },
  {
   "cell_type": "code",
   "execution_count": 29,
   "metadata": {},
   "outputs": [],
   "source": [
    "ids = sorted([get_seat_id(bp) for bp in boarding_passes])"
   ]
  },
  {
   "cell_type": "code",
   "execution_count": 30,
   "metadata": {},
   "outputs": [
    {
     "data": {
      "text/plain": [
       "[(523, 525, 2)]"
      ]
     },
     "execution_count": 30,
     "metadata": {},
     "output_type": "execute_result"
    }
   ],
   "source": [
    "[(i, j, j - i) for i, j in zip(ids[:-1], ids[1:]) if j - i > 1]"
   ]
  },
  {
   "cell_type": "markdown",
   "metadata": {},
   "source": [
    "## Day 6"
   ]
  },
  {
   "cell_type": "code",
   "execution_count": 31,
   "metadata": {},
   "outputs": [],
   "source": [
    "with open('data/day06.txt', 'r+') as f:\n",
    "    groups = f.read().split('\\n\\n')"
   ]
  },
  {
   "cell_type": "markdown",
   "metadata": {},
   "source": [
    "* **Part 1**"
   ]
  },
  {
   "cell_type": "code",
   "execution_count": 32,
   "metadata": {},
   "outputs": [
    {
     "data": {
      "text/plain": [
       "6630"
      ]
     },
     "execution_count": 32,
     "metadata": {},
     "output_type": "execute_result"
    }
   ],
   "source": [
    "sum([len(set(g.replace('\\n', ''))) for g in groups])"
   ]
  },
  {
   "cell_type": "markdown",
   "metadata": {},
   "source": [
    "* **Part 2**"
   ]
  },
  {
   "cell_type": "code",
   "execution_count": 33,
   "metadata": {},
   "outputs": [],
   "source": [
    "def count_group_answers(group):\n",
    "    n_people = len([a for a in group.split('\\n') if a != ''])\n",
    "    return sum([1 for c in Counter(group.replace('\\n', '')).values() if c == n_people])"
   ]
  },
  {
   "cell_type": "code",
   "execution_count": 34,
   "metadata": {},
   "outputs": [
    {
     "data": {
      "text/plain": [
       "3437"
      ]
     },
     "execution_count": 34,
     "metadata": {},
     "output_type": "execute_result"
    }
   ],
   "source": [
    "sum([count_group_answers(g) for g in groups])"
   ]
  }
 ],
 "metadata": {
  "kernelspec": {
   "display_name": "Python 3",
   "language": "python",
   "name": "python3"
  },
  "language_info": {
   "codemirror_mode": {
    "name": "ipython",
    "version": 3
   },
   "file_extension": ".py",
   "mimetype": "text/x-python",
   "name": "python",
   "nbconvert_exporter": "python",
   "pygments_lexer": "ipython3",
   "version": "3.9.0"
  }
 },
 "nbformat": 4,
 "nbformat_minor": 4
}
