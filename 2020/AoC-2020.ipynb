{
 "cells": [
  {
   "cell_type": "markdown",
   "metadata": {},
   "source": [
    "## Imports"
   ]
  },
  {
   "cell_type": "code",
   "execution_count": 1,
   "metadata": {},
   "outputs": [],
   "source": [
    "from collections import Counter\n",
    "from functools import reduce\n",
    "from itertools import combinations, chain, product\n",
    "from math import floor, ceil, sin, cos, radians\n",
    "from operator import itemgetter\n",
    "\n",
    "import re"
   ]
  },
  {
   "cell_type": "markdown",
   "metadata": {},
   "source": [
    "## Day 1"
   ]
  },
  {
   "cell_type": "code",
   "execution_count": 2,
   "metadata": {},
   "outputs": [],
   "source": [
    "with open('data/day01.txt', 'r+') as f:\n",
    "    expense_report = [int(s) for s in f.read().split('\\n') if s != '']"
   ]
  },
  {
   "cell_type": "code",
   "execution_count": 3,
   "metadata": {},
   "outputs": [],
   "source": [
    "def expense_product(expense_report, n):\n",
    "    ints = [c for c in combinations(expense_report, n) if sum(c) == 2020][0]\n",
    "    return reduce((lambda x, y: x * y), ints)"
   ]
  },
  {
   "cell_type": "markdown",
   "metadata": {},
   "source": [
    "* **Part 1**"
   ]
  },
  {
   "cell_type": "code",
   "execution_count": 4,
   "metadata": {},
   "outputs": [
    {
     "data": {
      "text/plain": [
       "1005459"
      ]
     },
     "execution_count": 4,
     "metadata": {},
     "output_type": "execute_result"
    }
   ],
   "source": [
    "expense_product(expense_report, 2)"
   ]
  },
  {
   "cell_type": "markdown",
   "metadata": {},
   "source": [
    "* **Part 2**"
   ]
  },
  {
   "cell_type": "code",
   "execution_count": 5,
   "metadata": {},
   "outputs": [
    {
     "data": {
      "text/plain": [
       "92643264"
      ]
     },
     "execution_count": 5,
     "metadata": {},
     "output_type": "execute_result"
    }
   ],
   "source": [
    "expense_product(expense_report, 3)"
   ]
  },
  {
   "cell_type": "markdown",
   "metadata": {},
   "source": [
    "## Day 2"
   ]
  },
  {
   "cell_type": "code",
   "execution_count": 6,
   "metadata": {},
   "outputs": [],
   "source": [
    "with open('data/day02.txt', 'r+') as f:\n",
    "    passwords_db = [s for s in f.read().split('\\n') if s != '']"
   ]
  },
  {
   "cell_type": "code",
   "execution_count": 7,
   "metadata": {},
   "outputs": [],
   "source": [
    "def count_valid_passwords(db, func):\n",
    "    return sum([func(password) for password in db])"
   ]
  },
  {
   "cell_type": "markdown",
   "metadata": {},
   "source": [
    "* **Part 1**"
   ]
  },
  {
   "cell_type": "code",
   "execution_count": 8,
   "metadata": {},
   "outputs": [],
   "source": [
    "def is_valid_v1(password):\n",
    "    rule, pwd = password.split(':')\n",
    "    min_expected, max_expected = [int(x) for x in re.findall('\\d+', rule)]\n",
    "    letter = re.findall('[a-z]', rule)[0]\n",
    "    actual = Counter(pwd.strip())[letter]\n",
    "    return actual >= min_expected and actual < max_expected + 1"
   ]
  },
  {
   "cell_type": "code",
   "execution_count": 9,
   "metadata": {},
   "outputs": [
    {
     "data": {
      "text/plain": [
       "456"
      ]
     },
     "execution_count": 9,
     "metadata": {},
     "output_type": "execute_result"
    }
   ],
   "source": [
    "count_valid_passwords(passwords_db, is_valid_v1)"
   ]
  },
  {
   "cell_type": "markdown",
   "metadata": {},
   "source": [
    "* **Part 2**"
   ]
  },
  {
   "cell_type": "code",
   "execution_count": 10,
   "metadata": {},
   "outputs": [],
   "source": [
    "def is_valid_v2(password):\n",
    "    rule, pwd = [s.strip() for s in password.split(':')]\n",
    "    ix_1, ix_2 = [int(x) - 1 for x in re.findall('\\d+', rule)]\n",
    "    letter = re.findall('[a-z]', rule)[0]\n",
    "    return (pwd[ix_1] == letter or pwd[ix_2] == letter) and not (pwd[ix_1] == letter and pwd[ix_2] == letter)"
   ]
  },
  {
   "cell_type": "code",
   "execution_count": 11,
   "metadata": {},
   "outputs": [
    {
     "data": {
      "text/plain": [
       "308"
      ]
     },
     "execution_count": 11,
     "metadata": {},
     "output_type": "execute_result"
    }
   ],
   "source": [
    "count_valid_passwords(passwords_db, is_valid_v2)"
   ]
  },
  {
   "cell_type": "markdown",
   "metadata": {},
   "source": [
    "## Day 3"
   ]
  },
  {
   "cell_type": "code",
   "execution_count": 12,
   "metadata": {},
   "outputs": [],
   "source": [
    "with open('data/day03.txt', 'r+') as f:\n",
    "    tree_map = [list(s) for s in f.read().split('\\n') if s != '']"
   ]
  },
  {
   "cell_type": "code",
   "execution_count": 13,
   "metadata": {},
   "outputs": [],
   "source": [
    "def check_slope(tree_map, r, d):\n",
    "    return sum(['#' == tree_map[i][j % len(tree_map[0])] \n",
    "                for i, j in zip(range(0,len(tree_map), d), range(0, len(tree_map) * r , r))])"
   ]
  },
  {
   "cell_type": "markdown",
   "metadata": {},
   "source": [
    "* **Part 1**"
   ]
  },
  {
   "cell_type": "code",
   "execution_count": 14,
   "metadata": {},
   "outputs": [
    {
     "data": {
      "text/plain": [
       "169"
      ]
     },
     "execution_count": 14,
     "metadata": {},
     "output_type": "execute_result"
    }
   ],
   "source": [
    "check_slope(tree_map, 3, 1)"
   ]
  },
  {
   "cell_type": "markdown",
   "metadata": {},
   "source": [
    "* **Part**"
   ]
  },
  {
   "cell_type": "code",
   "execution_count": 15,
   "metadata": {},
   "outputs": [],
   "source": [
    "trees_encountered = [check_slope(tree_map, r, d) for r, d in [(1, 1), (3, 1), (5, 1), (7, 1), (1, 2)]]"
   ]
  },
  {
   "cell_type": "code",
   "execution_count": 16,
   "metadata": {},
   "outputs": [
    {
     "data": {
      "text/plain": [
       "7560370818"
      ]
     },
     "execution_count": 16,
     "metadata": {},
     "output_type": "execute_result"
    }
   ],
   "source": [
    "reduce((lambda x, y: x * y), trees_encountered)"
   ]
  },
  {
   "cell_type": "markdown",
   "metadata": {},
   "source": [
    "## Day 4"
   ]
  },
  {
   "cell_type": "code",
   "execution_count": 17,
   "metadata": {},
   "outputs": [],
   "source": [
    "with open(\"data/day04.txt\") as f:\n",
    "    lines = [line.rstrip('\\n') for line in f]"
   ]
  },
  {
   "cell_type": "code",
   "execution_count": 18,
   "metadata": {},
   "outputs": [],
   "source": [
    "def get_fields(doc):\n",
    "    fields = {}\n",
    "    for s in doc.split():\n",
    "        k, v = s.split(':')\n",
    "        fields[k] = v\n",
    "    return(fields)\n",
    "\n",
    "def get_documents(lines):\n",
    "    empty_lines_index = [i for i, s in enumerate(lines) if s == ''] + [len(lines)]\n",
    "    doc_strings = [' '.join(lines[ix[0]: ix[1]]) for ix in zip([0] + [i + 1 for i in empty_lines_index], empty_lines_index)]\n",
    "    return [get_fields(doc) for doc in doc_strings]"
   ]
  },
  {
   "cell_type": "markdown",
   "metadata": {},
   "source": [
    "* **Part 1**"
   ]
  },
  {
   "cell_type": "code",
   "execution_count": 19,
   "metadata": {},
   "outputs": [],
   "source": [
    "def is_valid_document_v1(doc):\n",
    "    return all([field in doc for field in ['byr', 'iyr', 'eyr', 'hgt', 'hcl', 'ecl', 'pid']])"
   ]
  },
  {
   "cell_type": "code",
   "execution_count": 20,
   "metadata": {},
   "outputs": [
    {
     "data": {
      "text/plain": [
       "226"
      ]
     },
     "execution_count": 20,
     "metadata": {},
     "output_type": "execute_result"
    }
   ],
   "source": [
    "sum([is_valid_document_v1(doc) for doc in get_documents(lines)])"
   ]
  },
  {
   "cell_type": "markdown",
   "metadata": {},
   "source": [
    "* **Part 2**"
   ]
  },
  {
   "cell_type": "code",
   "execution_count": 21,
   "metadata": {},
   "outputs": [],
   "source": [
    "def is_valid_byr(byr):\n",
    "    return int(byr) >= 1920 and int(byr) <= 2002\n",
    "\n",
    "def is_valid_iyr(iyr):\n",
    "    return int(iyr) >= 2010 and int(iyr) <= 2020\n",
    "\n",
    "def is_valid_eyr(eyr):\n",
    "    return int(eyr) >= 2020 and int(eyr) <= 2030\n",
    "\n",
    "def is_valid_hgt(hgt):\n",
    "    results = re.findall('(\\d+)(cm|in)', hgt)\n",
    "    if results:\n",
    "        n, unit = results[0]\n",
    "        if unit == 'cm':\n",
    "            return int(n) >= 150 and int(n) <= 193\n",
    "        elif unit == 'in':\n",
    "            return int(n) >= 59 and int(n) <= 76\n",
    "    return False\n",
    "\n",
    "def is_valid_hcl(hcl):\n",
    "    return len(re.findall('#[aA-zZ0-9]{4}', hcl)) > 0\n",
    "\n",
    "def is_valid_ecl(ecl):\n",
    "    return ecl in ['amb', 'blu', 'brn', 'gry', 'grn', 'hzl', 'oth']\n",
    "\n",
    "def is_valid_pid(pid):\n",
    "    return len(re.findall('\\d', pid)) == len(pid)"
   ]
  },
  {
   "cell_type": "code",
   "execution_count": 22,
   "metadata": {},
   "outputs": [],
   "source": [
    "def is_valid_document_v2(doc):\n",
    "    if is_valid_document_v1(doc):\n",
    "        return is_valid_byr(doc['byr']) and is_valid_iyr(doc['iyr'])\\\n",
    "            and is_valid_eyr(doc['eyr']) and is_valid_hgt(doc['hgt'])\\\n",
    "            and is_valid_hcl(doc['hcl']) and is_valid_ecl(doc['ecl'])\\\n",
    "            and is_valid_pid(doc['pid'])\n",
    "    return False"
   ]
  },
  {
   "cell_type": "code",
   "execution_count": 23,
   "metadata": {},
   "outputs": [
    {
     "data": {
      "text/plain": [
       "162"
      ]
     },
     "execution_count": 23,
     "metadata": {},
     "output_type": "execute_result"
    }
   ],
   "source": [
    "sum([is_valid_document_v2(doc) for doc in get_documents(lines)])"
   ]
  },
  {
   "cell_type": "markdown",
   "metadata": {},
   "source": [
    "## Day 5"
   ]
  },
  {
   "cell_type": "code",
   "execution_count": 24,
   "metadata": {},
   "outputs": [],
   "source": [
    "with open(\"data/day05.txt\") as f:\n",
    "    boarding_passes = [line.rstrip('\\n') for line in f]"
   ]
  },
  {
   "cell_type": "code",
   "execution_count": 25,
   "metadata": {},
   "outputs": [],
   "source": [
    "def keep_lower_half(pair):\n",
    "    return (pair[0], floor((pair[1] - pair[0]) / 2) + pair[0])\n",
    "\n",
    "def keep_upper_half(pair):\n",
    "    return (ceil((pair[1] - pair[0]) / 2) + pair[0], pair[1])"
   ]
  },
  {
   "cell_type": "markdown",
   "metadata": {},
   "source": [
    "* **Part 1**"
   ]
  },
  {
   "cell_type": "code",
   "execution_count": 26,
   "metadata": {},
   "outputs": [],
   "source": [
    "def get_row_and_col_number(boarding_pass):\n",
    "    rows = (0, 127)\n",
    "    cols = (0, 7)\n",
    "\n",
    "    for char in boarding_pass:\n",
    "        if char == 'F':\n",
    "            rows = keep_lower_half(rows)\n",
    "        elif char == 'B':\n",
    "            rows = keep_upper_half(rows)\n",
    "        elif char == 'L':\n",
    "            cols = keep_lower_half(cols)\n",
    "        elif char == 'R':\n",
    "            cols = keep_upper_half(cols)\n",
    "    \n",
    "    if rows[0] == rows[1] and cols[0] == cols[1]:\n",
    "        return rows[0], cols[0]"
   ]
  },
  {
   "cell_type": "code",
   "execution_count": 27,
   "metadata": {},
   "outputs": [],
   "source": [
    "def get_seat_id(boarding_pass):\n",
    "    row, col = get_row_and_col_number(boarding_pass)\n",
    "    return row * 8 + col"
   ]
  },
  {
   "cell_type": "code",
   "execution_count": 28,
   "metadata": {},
   "outputs": [
    {
     "data": {
      "text/plain": [
       "965"
      ]
     },
     "execution_count": 28,
     "metadata": {},
     "output_type": "execute_result"
    }
   ],
   "source": [
    "max([get_seat_id(bp) for bp in boarding_passes])"
   ]
  },
  {
   "cell_type": "markdown",
   "metadata": {},
   "source": [
    "* **Part 2**"
   ]
  },
  {
   "cell_type": "code",
   "execution_count": 29,
   "metadata": {},
   "outputs": [],
   "source": [
    "ids = sorted([get_seat_id(bp) for bp in boarding_passes])"
   ]
  },
  {
   "cell_type": "code",
   "execution_count": 30,
   "metadata": {},
   "outputs": [
    {
     "data": {
      "text/plain": [
       "[(523, 525, 2)]"
      ]
     },
     "execution_count": 30,
     "metadata": {},
     "output_type": "execute_result"
    }
   ],
   "source": [
    "[(i, j, j - i) for i, j in zip(ids[:-1], ids[1:]) if j - i > 1]"
   ]
  },
  {
   "cell_type": "markdown",
   "metadata": {},
   "source": [
    "## Day 6"
   ]
  },
  {
   "cell_type": "code",
   "execution_count": 31,
   "metadata": {},
   "outputs": [],
   "source": [
    "with open('data/day06.txt', 'r+') as f:\n",
    "    groups = f.read().split('\\n\\n')"
   ]
  },
  {
   "cell_type": "markdown",
   "metadata": {},
   "source": [
    "* **Part 1**"
   ]
  },
  {
   "cell_type": "code",
   "execution_count": 32,
   "metadata": {},
   "outputs": [
    {
     "data": {
      "text/plain": [
       "6630"
      ]
     },
     "execution_count": 32,
     "metadata": {},
     "output_type": "execute_result"
    }
   ],
   "source": [
    "sum([len(set(g.replace('\\n', ''))) for g in groups])"
   ]
  },
  {
   "cell_type": "markdown",
   "metadata": {},
   "source": [
    "* **Part 2**"
   ]
  },
  {
   "cell_type": "code",
   "execution_count": 33,
   "metadata": {},
   "outputs": [],
   "source": [
    "def count_group_answers(group):\n",
    "    n_people = len([a for a in group.split('\\n') if a != ''])\n",
    "    return sum([1 for c in Counter(group.replace('\\n', '')).values() if c == n_people])"
   ]
  },
  {
   "cell_type": "code",
   "execution_count": 34,
   "metadata": {},
   "outputs": [
    {
     "data": {
      "text/plain": [
       "3437"
      ]
     },
     "execution_count": 34,
     "metadata": {},
     "output_type": "execute_result"
    }
   ],
   "source": [
    "sum([count_group_answers(g) for g in groups])"
   ]
  },
  {
   "cell_type": "markdown",
   "metadata": {},
   "source": [
    "## Day 7"
   ]
  },
  {
   "cell_type": "code",
   "execution_count": 35,
   "metadata": {},
   "outputs": [],
   "source": [
    "with open('data/day07.txt', 'r+') as f:\n",
    "    rules = [s for s in f.read().split('\\n') if s != '']"
   ]
  },
  {
   "cell_type": "code",
   "execution_count": 36,
   "metadata": {},
   "outputs": [],
   "source": [
    "def contained_in(color):\n",
    "    '''returns the list of colored bags that can contain a bag of color = color'''\n",
    "    return [r.split('bag')[0].strip() for r in rules if re.findall(f'(?<!^){color} bag', r)]"
   ]
  },
  {
   "cell_type": "markdown",
   "metadata": {},
   "source": [
    "* **Part 1**"
   ]
  },
  {
   "cell_type": "code",
   "execution_count": 37,
   "metadata": {},
   "outputs": [],
   "source": [
    "colors = contained_in('shiny gold')\n",
    "\n",
    "for color in colors:\n",
    "    colors += contained_in(color)"
   ]
  },
  {
   "cell_type": "code",
   "execution_count": 38,
   "metadata": {},
   "outputs": [
    {
     "data": {
      "text/plain": [
       "272"
      ]
     },
     "execution_count": 38,
     "metadata": {},
     "output_type": "execute_result"
    }
   ],
   "source": [
    "len(set(colors))"
   ]
  },
  {
   "cell_type": "markdown",
   "metadata": {},
   "source": [
    "## Day 9"
   ]
  },
  {
   "cell_type": "code",
   "execution_count": 39,
   "metadata": {},
   "outputs": [],
   "source": [
    "with open('data/day09.txt', 'r+') as f:\n",
    "    numbers = [int(s) for s in f.read().split('\\n') if s != '']"
   ]
  },
  {
   "cell_type": "code",
   "execution_count": null,
   "metadata": {},
   "outputs": [],
   "source": []
  },
  {
   "cell_type": "markdown",
   "metadata": {},
   "source": [
    "* **Part 1**"
   ]
  },
  {
   "cell_type": "code",
   "execution_count": 40,
   "metadata": {},
   "outputs": [],
   "source": [
    "def first_invalid(numbers, preamble_size=25):\n",
    "    for ix in range(preamble_size, len(numbers)):\n",
    "        if not any([i + j == numbers[ix] for i, j in combinations(numbers[(ix - preamble_size):ix], 2)]):\n",
    "            return numbers[ix]"
   ]
  },
  {
   "cell_type": "code",
   "execution_count": 41,
   "metadata": {},
   "outputs": [
    {
     "data": {
      "text/plain": [
       "32321523"
      ]
     },
     "execution_count": 41,
     "metadata": {},
     "output_type": "execute_result"
    }
   ],
   "source": [
    "first_invalid(numbers)"
   ]
  },
  {
   "cell_type": "markdown",
   "metadata": {},
   "source": [
    "* **Part 2**"
   ]
  },
  {
   "cell_type": "code",
   "execution_count": 42,
   "metadata": {},
   "outputs": [],
   "source": [
    "test = [35, 20, 15, 25, 47, 40, 62, 55, 65, 95, 102, 117, 150, 182, 127, 219, 299, 277, 309, 576]"
   ]
  },
  {
   "cell_type": "code",
   "execution_count": 43,
   "metadata": {},
   "outputs": [
    {
     "name": "stdout",
     "output_type": "stream",
     "text": [
      "(15, 25, 47, 40)\n"
     ]
    }
   ],
   "source": [
    "for n in range(2, len(test)):\n",
    "    for subset in zip(*[test[i:] for i in range(n)]):\n",
    "        if sum(subset) == 127:\n",
    "            print(subset)"
   ]
  },
  {
   "cell_type": "code",
   "execution_count": 44,
   "metadata": {},
   "outputs": [],
   "source": [
    "def find_encryption_weakness(numbers, preamble_size=25):\n",
    "    invalid_n = first_invalid(numbers, preamble_size)\n",
    "    for n in range(2, len(numbers)):\n",
    "        for subset in zip(*[numbers[i:] for i in range(n)]):\n",
    "            if sum(subset) == invalid_n:\n",
    "                return min(subset) + max(subset)"
   ]
  },
  {
   "cell_type": "code",
   "execution_count": 45,
   "metadata": {},
   "outputs": [
    {
     "data": {
      "text/plain": [
       "62"
      ]
     },
     "execution_count": 45,
     "metadata": {},
     "output_type": "execute_result"
    }
   ],
   "source": [
    "find_encryption_weakness(test, 5)"
   ]
  },
  {
   "cell_type": "code",
   "execution_count": 46,
   "metadata": {},
   "outputs": [
    {
     "data": {
      "text/plain": [
       "4794981"
      ]
     },
     "execution_count": 46,
     "metadata": {},
     "output_type": "execute_result"
    }
   ],
   "source": [
    "find_encryption_weakness(numbers, 25)"
   ]
  },
  {
   "cell_type": "markdown",
   "metadata": {},
   "source": [
    "## Day 10"
   ]
  },
  {
   "cell_type": "code",
   "execution_count": 47,
   "metadata": {},
   "outputs": [],
   "source": [
    "with open('data/day10.txt', 'r+') as f:\n",
    "    adapters = [int(s) for s in f.read().split('\\n') if s != '']"
   ]
  },
  {
   "cell_type": "code",
   "execution_count": 48,
   "metadata": {},
   "outputs": [],
   "source": [
    "def find_all_differences(adapters):\n",
    "    adapters = sorted(adapters)\n",
    "    return [adapters[0] - 0] + [j-i for i, j in zip(adapters[:-1], adapters[1:])] + [3]"
   ]
  },
  {
   "cell_type": "code",
   "execution_count": 49,
   "metadata": {},
   "outputs": [],
   "source": [
    "def distribution(adapters):\n",
    "    diffs = find_all_differences(adapters)\n",
    "    return sum([1 for d in diffs if d == 1]) * sum([1 for d in diffs if d == 3])"
   ]
  },
  {
   "cell_type": "code",
   "execution_count": 50,
   "metadata": {},
   "outputs": [
    {
     "data": {
      "text/plain": [
       "3034"
      ]
     },
     "execution_count": 50,
     "metadata": {},
     "output_type": "execute_result"
    }
   ],
   "source": [
    "distribution(adapters)"
   ]
  },
  {
   "cell_type": "markdown",
   "metadata": {},
   "source": [
    "## Day 11"
   ]
  },
  {
   "cell_type": "code",
   "execution_count": 51,
   "metadata": {},
   "outputs": [],
   "source": [
    "with open('data/day11.txt', 'r+') as f:\n",
    "    seat_map = [list(s) for s in f.read().split('\\n') if s != '']"
   ]
  },
  {
   "cell_type": "code",
   "execution_count": 52,
   "metadata": {},
   "outputs": [],
   "source": [
    "def get_neighbors(x, y, seat_map):\n",
    "    return [seat_map[x + i][y + j] \n",
    "            for i in [-1, 0, 1] \n",
    "            for j in [-1, 0, 1] \n",
    "            if (i != 0 or j != 0) \n",
    "            and x + i in range(len(seat_map))\n",
    "            and y + j in range(len(seat_map[0]))]"
   ]
  },
  {
   "cell_type": "code",
   "execution_count": 53,
   "metadata": {},
   "outputs": [],
   "source": [
    "def count_occupied(x, y, seat_map):\n",
    "    return sum([neighbor == '#' for neighbor in get_neighbors(x, y, seat_map)])"
   ]
  },
  {
   "cell_type": "code",
   "execution_count": 54,
   "metadata": {},
   "outputs": [],
   "source": [
    "def update_map(seat_map):\n",
    "    new_map = [x[:] for x in seat_map]\n",
    "    for x in range(len(seat_map)):\n",
    "        for y in range(len(seat_map[x])):\n",
    "            if seat_map[x][y] == 'L' and count_occupied(x, y, seat_map) == 0:\n",
    "                new_map[x][y] = '#'\n",
    "            elif seat_map[x][y] == '#' and count_occupied(x, y, seat_map) >= 4:\n",
    "                new_map[x][y] = 'L'\n",
    "    return new_map\n",
    "                    "
   ]
  },
  {
   "cell_type": "code",
   "execution_count": 55,
   "metadata": {},
   "outputs": [],
   "source": [
    "def total_occupied_seats(seat_map):\n",
    "    current_map = seat_map\n",
    "    new_map = update_map(current_map)\n",
    "\n",
    "    while current_map != new_map:\n",
    "        current_map = new_map\n",
    "        new_map = update_map(current_map)\n",
    "    return sum([seat == '#' for row in new_map for seat in row])"
   ]
  },
  {
   "cell_type": "code",
   "execution_count": 56,
   "metadata": {},
   "outputs": [
    {
     "data": {
      "text/plain": [
       "2270"
      ]
     },
     "execution_count": 56,
     "metadata": {},
     "output_type": "execute_result"
    }
   ],
   "source": [
    "total_occupied_seats(seat_map)"
   ]
  },
  {
   "cell_type": "markdown",
   "metadata": {},
   "source": [
    "## Day 12"
   ]
  },
  {
   "cell_type": "code",
   "execution_count": 57,
   "metadata": {},
   "outputs": [],
   "source": [
    "with open('data/day12.txt', 'r+') as f:\n",
    "    directions = [re.findall('(\\w)(\\d+)', s)[0] for s in f.read().split('\\n') if s != '']"
   ]
  },
  {
   "cell_type": "markdown",
   "metadata": {},
   "source": [
    "* **Part 1**"
   ]
  },
  {
   "cell_type": "code",
   "execution_count": 58,
   "metadata": {},
   "outputs": [],
   "source": [
    "D = ['W', 'N', 'E', 'S']\n",
    "\n",
    "def change_direction(current_facing_direction, direction, degrees):\n",
    "    if direction == 'L':\n",
    "        return D[D.index(current_facing_direction) - round(int(degrees)/ 90)]\n",
    "    if direction == 'R':\n",
    "        return D[(D.index(current_facing_direction) + round(int(degrees)/ 90)) % 4]"
   ]
  },
  {
   "cell_type": "code",
   "execution_count": 59,
   "metadata": {},
   "outputs": [],
   "source": [
    "def manhattan_dist(directions):\n",
    "    x, y = 0, 0\n",
    "    current_direction = 'E'\n",
    "\n",
    "    for direction, value in directions:\n",
    "        direction = direction.replace('F', current_direction)\n",
    "        if direction == 'E':\n",
    "            x += int(value)\n",
    "        if direction == 'W':\n",
    "            x -= int(value)\n",
    "        if direction == 'N':\n",
    "            y += int(value)\n",
    "        if direction == 'S':\n",
    "            y -= int(value)\n",
    "        if direction in ['R', 'L']:\n",
    "            current_direction = change_direction(current_direction, direction, int(value))\n",
    "    return abs(x) + abs(y)"
   ]
  },
  {
   "cell_type": "code",
   "execution_count": 60,
   "metadata": {},
   "outputs": [],
   "source": [
    "test = '''F10\n",
    "N3\n",
    "F7\n",
    "R90\n",
    "F11'''\n",
    "test = [re.findall('(\\w)(\\d+)', s)[0] for s in test.split('\\n') if s != '']"
   ]
  },
  {
   "cell_type": "code",
   "execution_count": 61,
   "metadata": {},
   "outputs": [
    {
     "data": {
      "text/plain": [
       "25"
      ]
     },
     "execution_count": 61,
     "metadata": {},
     "output_type": "execute_result"
    }
   ],
   "source": [
    "manhattan_dist(test)"
   ]
  },
  {
   "cell_type": "code",
   "execution_count": 62,
   "metadata": {
    "scrolled": false
   },
   "outputs": [
    {
     "data": {
      "text/plain": [
       "415"
      ]
     },
     "execution_count": 62,
     "metadata": {},
     "output_type": "execute_result"
    }
   ],
   "source": [
    "manhattan_dist(directions)"
   ]
  },
  {
   "cell_type": "markdown",
   "metadata": {},
   "source": [
    "* **Part 2**"
   ]
  },
  {
   "cell_type": "code",
   "execution_count": 63,
   "metadata": {},
   "outputs": [],
   "source": [
    "def rotate_coordinates(wx, wy, direction, degrees):\n",
    "    degrees = degrees if direction == 'R' else 360 - degrees \n",
    "    sin_angle = round(sin(radians(degrees)))\n",
    "    cos_angle = round(cos(radians(degrees)))\n",
    "    return (wx * cos_angle) + (wy * sin_angle), - (wx * sin_angle) + (wy * cos_angle)"
   ]
  },
  {
   "cell_type": "code",
   "execution_count": 64,
   "metadata": {},
   "outputs": [],
   "source": [
    "def manhattan_dist_with_waypoint(directions):\n",
    "    x, y = 0, 0\n",
    "    wx, wy = 10, 1\n",
    "\n",
    "    for direction, value in directions:\n",
    "        if direction == 'N':\n",
    "            wy += int(value)\n",
    "        if direction == 'S':\n",
    "            wy -= int(value)\n",
    "        if direction == 'E':\n",
    "            wx += int(value)\n",
    "        if direction == 'W':\n",
    "            wx -= int(value)\n",
    "        if direction == 'F':\n",
    "            x += int(value) * wx\n",
    "            y += int(value) * wy\n",
    "        if direction in ['R', 'L']:\n",
    "            wx, wy = rotate_coordinates(wx, wy, direction, int(value))\n",
    "    return abs(x) + abs(y)"
   ]
  },
  {
   "cell_type": "code",
   "execution_count": 65,
   "metadata": {},
   "outputs": [
    {
     "data": {
      "text/plain": [
       "286"
      ]
     },
     "execution_count": 65,
     "metadata": {},
     "output_type": "execute_result"
    }
   ],
   "source": [
    "manhattan_dist_with_waypoint(test)"
   ]
  },
  {
   "cell_type": "code",
   "execution_count": 66,
   "metadata": {},
   "outputs": [
    {
     "data": {
      "text/plain": [
       "29401"
      ]
     },
     "execution_count": 66,
     "metadata": {},
     "output_type": "execute_result"
    }
   ],
   "source": [
    "manhattan_dist_with_waypoint(directions)"
   ]
  },
  {
   "cell_type": "markdown",
   "metadata": {},
   "source": [
    "## Day 13"
   ]
  },
  {
   "cell_type": "markdown",
   "metadata": {},
   "source": [
    "* **Part 1**"
   ]
  },
  {
   "cell_type": "code",
   "execution_count": 166,
   "metadata": {},
   "outputs": [],
   "source": [
    "with open('data/day13.txt', 'r+') as f:\n",
    "    line1, line2 = f.read().strip('\\n').split('\\n')\n",
    "    timestamp = int(line1)\n",
    "    buses = [int(bus) for bus in re.findall('(\\d+)', line2)]"
   ]
  },
  {
   "cell_type": "code",
   "execution_count": 167,
   "metadata": {},
   "outputs": [],
   "source": [
    "def departure_time(timestamp, buses):\n",
    "    departure_times = [ceil(timestamp / busid) * busid for busid in buses]\n",
    "    ix, dep_time = min(enumerate(departure_times), key=itemgetter(1))\n",
    "    return (dep_time - timestamp) * buses[ix]"
   ]
  },
  {
   "cell_type": "code",
   "execution_count": 168,
   "metadata": {},
   "outputs": [
    {
     "data": {
      "text/plain": [
       "2238"
      ]
     },
     "execution_count": 168,
     "metadata": {},
     "output_type": "execute_result"
    }
   ],
   "source": [
    "departure_time(timestamp, buses)"
   ]
  },
  {
   "cell_type": "markdown",
   "metadata": {},
   "source": [
    "## Day 14"
   ]
  },
  {
   "cell_type": "code",
   "execution_count": null,
   "metadata": {},
   "outputs": [],
   "source": []
  },
  {
   "cell_type": "code",
   "execution_count": 20,
   "metadata": {},
   "outputs": [],
   "source": [
    "with open('data/day14.txt', 'r+') as f:\n",
    "    lines = [s for s in f.read().rsplit('\\n') if s != '']"
   ]
  },
  {
   "cell_type": "code",
   "execution_count": 21,
   "metadata": {},
   "outputs": [],
   "source": [
    "def memory_instruction(string):\n",
    "    mem, n = string.split(' = ')\n",
    "    return mem, list('{0:036b}'.format(int(n)))\n",
    "\n",
    "def apply_bitmask(mask, binary):\n",
    "    return ''.join([r if m == 'X' else m for r, m in zip(binary, mask)])"
   ]
  },
  {
   "cell_type": "code",
   "execution_count": 22,
   "metadata": {},
   "outputs": [],
   "source": [
    "def sum_of_values_in_memory(lines):\n",
    "    \n",
    "    memory = {}\n",
    "    mask = ''\n",
    "    mask_values = []\n",
    "    \n",
    "    for line in lines:\n",
    "        if 'mask' in line:\n",
    "            mask = line.split(' = ')[1]\n",
    "        else:\n",
    "            if line != '':\n",
    "                mem, b = memory_instruction(line)\n",
    "                memory[mem] = apply_bitmask(mask, b)\n",
    "    return sum([int(b, 2) for mem, b in memory.items()])"
   ]
  },
  {
   "cell_type": "code",
   "execution_count": 23,
   "metadata": {},
   "outputs": [],
   "source": [
    "test = '''mask = XXXXXXXXXXXXXXXXXXXXXXXXXXXXX1XXXX0X\n",
    "mem[8] = 11\n",
    "mem[7] = 101\n",
    "mem[8] = 0\n",
    "'''"
   ]
  },
  {
   "cell_type": "code",
   "execution_count": 24,
   "metadata": {},
   "outputs": [
    {
     "data": {
      "text/plain": [
       "165"
      ]
     },
     "execution_count": 24,
     "metadata": {},
     "output_type": "execute_result"
    }
   ],
   "source": [
    "sum_of_values_in_memory(test.split('\\n'))"
   ]
  },
  {
   "cell_type": "code",
   "execution_count": 25,
   "metadata": {
    "scrolled": false
   },
   "outputs": [
    {
     "data": {
      "text/plain": [
       "9879607673316"
      ]
     },
     "execution_count": 25,
     "metadata": {},
     "output_type": "execute_result"
    }
   ],
   "source": [
    "sum_of_values_in_memory(lines)"
   ]
  },
  {
   "cell_type": "markdown",
   "metadata": {},
   "source": [
    "* **Part 2**"
   ]
  },
  {
   "cell_type": "code",
   "execution_count": 26,
   "metadata": {},
   "outputs": [],
   "source": [
    "def get_memory_slot(line):\n",
    "    mem, value = line.split(' = ')\n",
    "    mem = int(re.findall('\\d+', mem)[0])\n",
    "    value = int(value)\n",
    "    return '{0:036b}'.format(mem), value"
   ]
  },
  {
   "cell_type": "code",
   "execution_count": 27,
   "metadata": {},
   "outputs": [],
   "source": [
    "def apply_bitmask(mask, binary):\n",
    "    out = []\n",
    "    for r, m in zip(binary, mask):\n",
    "        if m == '1':\n",
    "            out.append('1')\n",
    "        elif m == 'X':\n",
    "            out.append(m)\n",
    "        else:\n",
    "            out.append(r)\n",
    "    return ''.join(out)"
   ]
  },
  {
   "cell_type": "code",
   "execution_count": 28,
   "metadata": {},
   "outputs": [],
   "source": [
    "memory = {}\n",
    "mask = ''\n",
    "for line in lines:\n",
    "    if 'mask' in line:\n",
    "        mask = line.split(' = ')[1]\n",
    "    else:\n",
    "        if line != '':\n",
    "            mem, v = get_memory_slot(line)\n",
    "            result = apply_bitmask(mask, mem)\n",
    "            for perm in product(['0', '1'], repeat=len(re.findall('X', result))):\n",
    "                mem = list(result)\n",
    "                for i in perm:\n",
    "                    mem[mem.index('X')] = i                    \n",
    "                memory[int(''.join(mem), 2)] = v"
   ]
  },
  {
   "cell_type": "code",
   "execution_count": 29,
   "metadata": {},
   "outputs": [
    {
     "data": {
      "text/plain": [
       "3435342392262"
      ]
     },
     "execution_count": 29,
     "metadata": {},
     "output_type": "execute_result"
    }
   ],
   "source": [
    "sum([n for mem, n in memory.items()])"
   ]
  },
  {
   "cell_type": "code",
   "execution_count": null,
   "metadata": {},
   "outputs": [],
   "source": []
  }
 ],
 "metadata": {
  "kernelspec": {
   "display_name": "Python 3",
   "language": "python",
   "name": "python3"
  },
  "language_info": {
   "codemirror_mode": {
    "name": "ipython",
    "version": 3
   },
   "file_extension": ".py",
   "mimetype": "text/x-python",
   "name": "python",
   "nbconvert_exporter": "python",
   "pygments_lexer": "ipython3",
   "version": "3.9.0"
  }
 },
 "nbformat": 4,
 "nbformat_minor": 4
}
