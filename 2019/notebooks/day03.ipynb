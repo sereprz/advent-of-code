{
 "cells": [
  {
   "cell_type": "code",
   "execution_count": 1,
   "metadata": {},
   "outputs": [],
   "source": [
    "import re"
   ]
  },
  {
   "cell_type": "code",
   "execution_count": 2,
   "metadata": {},
   "outputs": [],
   "source": [
    "one = 'R8,U5,L5,D3'\n",
    "two = 'U7,R6,D4,L4'"
   ]
  },
  {
   "cell_type": "code",
   "execution_count": 3,
   "metadata": {},
   "outputs": [],
   "source": [
    "one = one.split(',')"
   ]
  },
  {
   "cell_type": "code",
   "execution_count": 4,
   "metadata": {},
   "outputs": [],
   "source": [
    "two = two.split(',')"
   ]
  },
  {
   "cell_type": "code",
   "execution_count": 5,
   "metadata": {},
   "outputs": [
    {
     "data": {
      "text/plain": [
       "['R8', 'U5', 'L5', 'D3']"
      ]
     },
     "execution_count": 5,
     "metadata": {},
     "output_type": "execute_result"
    }
   ],
   "source": [
    "one"
   ]
  },
  {
   "cell_type": "code",
   "execution_count": 6,
   "metadata": {},
   "outputs": [],
   "source": [
    "def move_right(start, size):\n",
    "    return [(start[0], start[1] + j) for j in range(1, size + 1)]\n",
    "\n",
    "def move_left(start, size):\n",
    "    return [(start[0], start[1] - j) for j in range(1, size + 1)]\n",
    "\n",
    "def move_up(start, size):\n",
    "    return [(start[0] + j, start[1]) for j in range(1, size + 1)]\n",
    "\n",
    "def move_down(start, size):\n",
    "    return [(start[0] - j, start[1]) for j in range(1, size + 1)]\n",
    "\n",
    "def move(start, step):\n",
    "    \n",
    "    direction, size = re.findall('([UDRL])(\\d+)', step)[0]\n",
    "    \n",
    "    if direction == 'R':\n",
    "        return move_right(start, int(size))\n",
    "    elif direction == 'L':\n",
    "        return move_left(start, int(size))\n",
    "    elif direction == 'U':\n",
    "        return move_up(start, int(size))\n",
    "    else:\n",
    "        return move_down(start, int(size))"
   ]
  },
  {
   "cell_type": "code",
   "execution_count": 8,
   "metadata": {},
   "outputs": [],
   "source": [
    "def intersection_points(one, two):\n",
    "    first_wire = [(0, 0)]\n",
    "\n",
    "    for step in one:\n",
    "        first_wire += move(first_wire[-1], step)\n",
    "    \n",
    "    second_wire = [(0, 0)]\n",
    "\n",
    "    for step in two:\n",
    "        second_wire += move(second_wire[-1], step)\n",
    "    \n",
    "    return [pair for pair in set(first_wire).intersection(set(second_wire)) if pair != (0, 0)]"
   ]
  },
  {
   "cell_type": "code",
   "execution_count": 9,
   "metadata": {},
   "outputs": [
    {
     "data": {
      "text/plain": [
       "[(5, 6), (3, 3)]"
      ]
     },
     "execution_count": 9,
     "metadata": {},
     "output_type": "execute_result"
    }
   ],
   "source": [
    "intersection_points(one, two)"
   ]
  },
  {
   "cell_type": "code",
   "execution_count": 12,
   "metadata": {},
   "outputs": [],
   "source": [
    "def min_manhattan(one, two):\n",
    "    one = one.split(',')\n",
    "    two = two.split(',')\n",
    "    return min([abs(pair[0] - 0) + abs(pair[1] - 0) for pair in intersection_points(one, two)])"
   ]
  },
  {
   "cell_type": "code",
   "execution_count": 13,
   "metadata": {},
   "outputs": [],
   "source": [
    "one = 'R8,U5,L5,D3'\n",
    "two = 'U7,R6,D4,L4'"
   ]
  },
  {
   "cell_type": "code",
   "execution_count": 15,
   "metadata": {},
   "outputs": [
    {
     "data": {
      "text/plain": [
       "6"
      ]
     },
     "execution_count": 15,
     "metadata": {},
     "output_type": "execute_result"
    }
   ],
   "source": [
    "min_manhattan(one, two)"
   ]
  },
  {
   "cell_type": "code",
   "execution_count": 17,
   "metadata": {},
   "outputs": [
    {
     "data": {
      "text/plain": [
       "159"
      ]
     },
     "execution_count": 17,
     "metadata": {},
     "output_type": "execute_result"
    }
   ],
   "source": [
    "one = 'R75,D30,R83,U83,L12,D49,R71,U7,L72'\n",
    "two = 'U62,R66,U55,R34,D71,R55,D58,R83'\n",
    "\n",
    "min_manhattan(one, two)"
   ]
  },
  {
   "cell_type": "code",
   "execution_count": 18,
   "metadata": {},
   "outputs": [
    {
     "data": {
      "text/plain": [
       "135"
      ]
     },
     "execution_count": 18,
     "metadata": {},
     "output_type": "execute_result"
    }
   ],
   "source": [
    "one = 'R98,U47,R26,D63,R33,U87,L62,D20,R33,U53,R51'\n",
    "two = 'U98,R91,D20,R16,D67,R40,U7,R15,U6,R7'\n",
    "\n",
    "min_manhattan(one, two)"
   ]
  },
  {
   "cell_type": "code",
   "execution_count": 19,
   "metadata": {},
   "outputs": [],
   "source": [
    "with open('../inputs/day03.txt', 'r+') as f:\n",
    "    one, two = f.read().split('\\n')"
   ]
  },
  {
   "cell_type": "code",
   "execution_count": 23,
   "metadata": {},
   "outputs": [
    {
     "data": {
      "text/plain": [
       "209"
      ]
     },
     "execution_count": 23,
     "metadata": {},
     "output_type": "execute_result"
    }
   ],
   "source": [
    "## answer\n",
    "min_manhattan(one, two)"
   ]
  },
  {
   "cell_type": "code",
   "execution_count": null,
   "metadata": {},
   "outputs": [],
   "source": []
  },
  {
   "cell_type": "code",
   "execution_count": 24,
   "metadata": {},
   "outputs": [],
   "source": [
    "one = 'R8,U5,L5,D3'.split(',')\n",
    "two = 'U7,R6,D4,L4'.split(',')"
   ]
  },
  {
   "cell_type": "code",
   "execution_count": 27,
   "metadata": {},
   "outputs": [
    {
     "data": {
      "text/plain": [
       "[30, 40]"
      ]
     },
     "execution_count": 27,
     "metadata": {},
     "output_type": "execute_result"
    }
   ],
   "source": [
    "first_wire = [(0, 0)]\n",
    "\n",
    "for step in one:\n",
    "    first_wire += move(first_wire[-1], step)\n",
    "    \n",
    "second_wire = [(0, 0)]\n",
    "\n",
    "for step in two:\n",
    "    second_wire += move(second_wire[-1], step)\n",
    "        \n",
    "[first_wire.index(intersection) + second_wire.index(intersection) for intersection in intersection_points(one, two)]"
   ]
  },
  {
   "cell_type": "code",
   "execution_count": 28,
   "metadata": {},
   "outputs": [],
   "source": [
    "def min_steps_to_intersection(one, two):\n",
    "    one = one.split(',')\n",
    "    two = two.split(',')\n",
    "    \n",
    "    first_wire = [(0, 0)]\n",
    "\n",
    "    for step in one:\n",
    "        first_wire += move(first_wire[-1], step)\n",
    "    \n",
    "    second_wire = [(0, 0)]\n",
    "\n",
    "    for step in two:\n",
    "        second_wire += move(second_wire[-1], step)\n",
    "        \n",
    "    return min([first_wire.index(intersection) + second_wire.index(intersection) for intersection in intersection_points(one, two)])"
   ]
  },
  {
   "cell_type": "code",
   "execution_count": 29,
   "metadata": {},
   "outputs": [
    {
     "data": {
      "text/plain": [
       "30"
      ]
     },
     "execution_count": 29,
     "metadata": {},
     "output_type": "execute_result"
    }
   ],
   "source": [
    "min_steps_to_intersection('R8,U5,L5,D3', 'U7,R6,D4,L4')"
   ]
  },
  {
   "cell_type": "code",
   "execution_count": 30,
   "metadata": {},
   "outputs": [
    {
     "data": {
      "text/plain": [
       "610"
      ]
     },
     "execution_count": 30,
     "metadata": {},
     "output_type": "execute_result"
    }
   ],
   "source": [
    "min_steps_to_intersection(\n",
    "    'R75,D30,R83,U83,L12,D49,R71,U7,L72',\n",
    "    'U62,R66,U55,R34,D71,R55,D58,R83'\n",
    ")"
   ]
  },
  {
   "cell_type": "code",
   "execution_count": 31,
   "metadata": {},
   "outputs": [
    {
     "data": {
      "text/plain": [
       "410"
      ]
     },
     "execution_count": 31,
     "metadata": {},
     "output_type": "execute_result"
    }
   ],
   "source": [
    "min_steps_to_intersection(\n",
    "    'R98,U47,R26,D63,R33,U87,L62,D20,R33,U53,R51',\n",
    "    'U98,R91,D20,R16,D67,R40,U7,R15,U6,R7'\n",
    ")"
   ]
  },
  {
   "cell_type": "code",
   "execution_count": 32,
   "metadata": {},
   "outputs": [
    {
     "data": {
      "text/plain": [
       "43258"
      ]
     },
     "execution_count": 32,
     "metadata": {},
     "output_type": "execute_result"
    }
   ],
   "source": [
    "with open('../inputs/day03.txt', 'r+') as f:\n",
    "    one, two = f.read().split('\\n')\n",
    "    \n",
    "min_steps_to_intersection(one, two)"
   ]
  },
  {
   "cell_type": "code",
   "execution_count": null,
   "metadata": {},
   "outputs": [],
   "source": []
  }
 ],
 "metadata": {
  "kernelspec": {
   "display_name": "Python 3",
   "language": "python",
   "name": "python3"
  },
  "language_info": {
   "codemirror_mode": {
    "name": "ipython",
    "version": 3
   },
   "file_extension": ".py",
   "mimetype": "text/x-python",
   "name": "python",
   "nbconvert_exporter": "python",
   "pygments_lexer": "ipython3",
   "version": "3.7.2"
  }
 },
 "nbformat": 4,
 "nbformat_minor": 2
}
