{
 "cells": [
  {
   "cell_type": "code",
   "execution_count": 110,
   "metadata": {},
   "outputs": [],
   "source": [
    "import re"
   ]
  },
  {
   "cell_type": "code",
   "execution_count": 111,
   "metadata": {},
   "outputs": [],
   "source": [
    "min_inp = 168630\n",
    "max_inp = 718098"
   ]
  },
  {
   "cell_type": "code",
   "execution_count": 112,
   "metadata": {},
   "outputs": [],
   "source": [
    "doubles = [f'{i}{i}' for i in range(10)]"
   ]
  },
  {
   "cell_type": "code",
   "execution_count": 113,
   "metadata": {},
   "outputs": [],
   "source": [
    "passwords = []\n",
    "\n",
    "for one in range(int(str(min_inp)[0]), int(str(max_inp)[0]) + 1):\n",
    "    for two in range(one, 10):\n",
    "        for three in range(two, 10):\n",
    "            for four in range(three, 10):\n",
    "                for five in range(four, 10):\n",
    "                    for six in range(five, 10):\n",
    "                        pwd = f'{one}{two}{three}{four}{five}{six}'\n",
    "                        if int(pwd) >= min_inp and int(pwd) <= max_inp and any([d in pwd for d in doubles]):\n",
    "                            passwords.append(pwd)"
   ]
  },
  {
   "cell_type": "code",
   "execution_count": 114,
   "metadata": {},
   "outputs": [
    {
     "data": {
      "text/plain": [
       "1686"
      ]
     },
     "execution_count": 114,
     "metadata": {},
     "output_type": "execute_result"
    }
   ],
   "source": [
    "## answer 1\n",
    "len(passwords)"
   ]
  },
  {
   "cell_type": "code",
   "execution_count": 115,
   "metadata": {},
   "outputs": [],
   "source": [
    "triples = [f'{i}{i}{i}' for i in range(10)]"
   ]
  },
  {
   "cell_type": "code",
   "execution_count": 125,
   "metadata": {
    "scrolled": false
   },
   "outputs": [],
   "source": [
    "results = []\n",
    "for pwd in passwords:\n",
    "    if any([d in pwd for d in triples]):\n",
    "        password = pwd\n",
    "        triplets = re.findall('|'.join(triples), pwd)\n",
    "        for tr in triplets:\n",
    "            pwd = re.sub(tr, '***', pwd)\n",
    "        if any([d in pwd for d in doubles]):\n",
    "            if re.findall('|'.join(doubles), pwd)[0] in triplets[0]:\n",
    "                pwd = re.sub(re.findall('|'.join(doubles), pwd)[0], '**', pwd)\n",
    "                if len(re.findall('\\*\\*\\*\\*\\*', pwd)) == 0:\n",
    "                    results.append(password)\n",
    "            else:\n",
    "                results.append(password)\n",
    "    else:\n",
    "        results.append(password)"
   ]
  },
  {
   "cell_type": "code",
   "execution_count": 127,
   "metadata": {},
   "outputs": [
    {
     "data": {
      "text/plain": [
       "1145"
      ]
     },
     "execution_count": 127,
     "metadata": {},
     "output_type": "execute_result"
    }
   ],
   "source": [
    "# answer 2\n",
    "len(results)"
   ]
  }
 ],
 "metadata": {
  "kernelspec": {
   "display_name": "Python 3",
   "language": "python",
   "name": "python3"
  },
  "language_info": {
   "codemirror_mode": {
    "name": "ipython",
    "version": 3
   },
   "file_extension": ".py",
   "mimetype": "text/x-python",
   "name": "python",
   "nbconvert_exporter": "python",
   "pygments_lexer": "ipython3",
   "version": "3.7.5"
  }
 },
 "nbformat": 4,
 "nbformat_minor": 2
}
