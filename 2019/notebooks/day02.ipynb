{
 "cells": [
  {
   "cell_type": "code",
   "execution_count": 1,
   "metadata": {},
   "outputs": [],
   "source": [
    "with open('../inputs/day02.txt', 'r+') as f:\n",
    "    day2 = f.read().split(',')"
   ]
  },
  {
   "cell_type": "code",
   "execution_count": 2,
   "metadata": {},
   "outputs": [],
   "source": [
    "def intcode(codes, name, verb):\n",
    "    codes[1] = name\n",
    "    codes[2] = verb\n",
    "\n",
    "    i = 0\n",
    "    while True:\n",
    "        if codes[i] == 99:\n",
    "            break\n",
    "        elif codes[i] == 1:\n",
    "            codes[codes[i + 3]] = codes[codes[i + 1]] + codes[codes[i + 2]]\n",
    "            i += 4\n",
    "        elif codes[i] == 2:\n",
    "            codes[codes[i + 3]] = codes[codes[i + 1]] * codes[codes[i + 2]]\n",
    "            i += 4\n",
    "        else:\n",
    "            break\n",
    "    return codes"
   ]
  },
  {
   "cell_type": "code",
   "execution_count": 3,
   "metadata": {},
   "outputs": [],
   "source": [
    "opcodes = list(map(int, day2))"
   ]
  },
  {
   "cell_type": "code",
   "execution_count": 4,
   "metadata": {},
   "outputs": [
    {
     "data": {
      "text/plain": [
       "5110675"
      ]
     },
     "execution_count": 4,
     "metadata": {},
     "output_type": "execute_result"
    }
   ],
   "source": [
    "intcode(opcodes, 12, 2)[0]"
   ]
  },
  {
   "cell_type": "code",
   "execution_count": 5,
   "metadata": {},
   "outputs": [
    {
     "name": "stdout",
     "output_type": "stream",
     "text": [
      "48 47\n"
     ]
    }
   ],
   "source": [
    "for i in range(100):\n",
    "    for j in range(100):\n",
    "        opcodes = list(map(int, day2))\n",
    "        if intcode(opcodes, i, j)[0] == 19690720:\n",
    "            name = i\n",
    "            verb = j\n",
    "            print(name, verb)"
   ]
  },
  {
   "cell_type": "code",
   "execution_count": 6,
   "metadata": {},
   "outputs": [
    {
     "data": {
      "text/plain": [
       "4847"
      ]
     },
     "execution_count": 6,
     "metadata": {},
     "output_type": "execute_result"
    }
   ],
   "source": [
    "100 * name + verb"
   ]
  }
 ],
 "metadata": {
  "kernelspec": {
   "display_name": "Python 3",
   "language": "python",
   "name": "python3"
  },
  "language_info": {
   "codemirror_mode": {
    "name": "ipython",
    "version": 3
   },
   "file_extension": ".py",
   "mimetype": "text/x-python",
   "name": "python",
   "nbconvert_exporter": "python",
   "pygments_lexer": "ipython3",
   "version": "3.7.5"
  }
 },
 "nbformat": 4,
 "nbformat_minor": 2
}
